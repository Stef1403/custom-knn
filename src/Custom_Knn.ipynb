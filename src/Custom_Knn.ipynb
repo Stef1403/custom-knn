{
 "cells": [
  {
   "cell_type": "markdown",
   "metadata": {},
   "source": [
    "# A Custom K-NN implementation \n",
    "A k-nn algorithm that can:\n",
    "1. Handle missing values\n",
    "2. Handle class imbalance \n",
    "3. Handle different scales of data \n",
    "4. Automatically picks the best value for k \n",
    "5. Is close to the same speed as sklearn's \n",
    "6. Should run in parralel\n",
    "7. Regression or Classification \n",
    "\n",
    "## Planning \n",
    "1. Basic implementation \n",
    "2. First get it to run faster with the optimisations\n",
    "3. Just use simulated data"
   ]
  },
  {
   "cell_type": "code",
   "execution_count": 56,
   "metadata": {},
   "outputs": [],
   "source": [
    "import pandas as pd\n",
    "import numpy as np\n",
    "from sklearn.datasets import make_classification, make_regression\n",
    "from sklearn.base import BaseEstimator, ClassifierMixin\n",
    "from sklearn.metrics import accuracy_score, r2_score\n",
    "import collections"
   ]
  },
  {
   "cell_type": "code",
   "execution_count": 145,
   "metadata": {},
   "outputs": [],
   "source": [
    "X, y = make_classification(n_samples=100, n_features=5, n_informative=4, n_redundant=0, n_classes=2)\n",
    "missing_fraction = 0.05  # 10% missing values\n",
    "\n",
    "# Calculate number of missing values\n",
    "num_missing = int(missing_fraction * X.size)\n",
    "\n",
    "# Randomly select indices to introduce NaNs\n",
    "np.random.seed(42)  # For reproducibility\n",
    "missing_indices = np.random.choice(X.size, num_missing, replace=False)\n",
    "\n",
    "# Flatten X, introduce NaNs, and reshape back\n",
    "X_flattened = X.flatten()\n",
    "X_flattened[missing_indices] = np.nan\n",
    "X = X_flattened.reshape(X.shape)"
   ]
  },
  {
   "cell_type": "code",
   "execution_count": 146,
   "metadata": {},
   "outputs": [],
   "source": [
    "X_reg, y_reg = make_regression(n_samples=100, n_features=5, n_informative=5)\n",
    "missing_fraction = 0.05  # 10% missing values\n",
    "\n",
    "# Calculate number of missing values\n",
    "num_missing = int(missing_fraction * X_reg.size)\n",
    "\n",
    "# Randomly select indices to introduce NaNs\n",
    "np.random.seed(42)  # For reproducibility\n",
    "missing_indices = np.random.choice(X_reg.size, num_missing, replace=False)\n",
    "\n",
    "# Flatten X, introduce NaNs, and reshape back\n",
    "X_flattened = X_reg.flatten()\n",
    "X_flattened[missing_indices] = np.nan\n",
    "X_reg = X_flattened.reshape(X_reg.shape)"
   ]
  },
  {
   "cell_type": "markdown",
   "metadata": {},
   "source": []
  },
  {
   "cell_type": "markdown",
   "metadata": {},
   "source": [
    "# Model \n",
    "1. sklearn model format "
   ]
  },
  {
   "cell_type": "code",
   "execution_count": 245,
   "metadata": {},
   "outputs": [],
   "source": [
    "class Custom_Knn(BaseEstimator, ClassifierMixin):\n",
    "    \"\"\"\n",
    "    A custom k-nearest neighbors (KNN) classifier and regressor that handles missing values.\n",
    "    \n",
    "    Parameters:\n",
    "    - neighbors (int): Number of nearest neighbors to consider.\n",
    "    - optimise (bool): Whether to optimize hyperparameters.\n",
    "    - method (str): 'c' for classification, 'r' for regression.\n",
    "    \"\"\"\n",
    "    def __init__(self, neighbors=None, optimise=False, method='c'):\n",
    "        self.neighbors = neighbors\n",
    "        self.optimise = optimise\n",
    "        self.method = method\n",
    "    \n",
    "    def fit(self, X, y):\n",
    "        \"\"\"\n",
    "        Fit the model with training data.\n",
    "        \n",
    "        Parameters:\n",
    "        - X (array-like): Training feature matrix.\n",
    "        - y (array-like): Target values.\n",
    "        \"\"\"\n",
    "        self.X_ = X\n",
    "        self.y_ = y\n",
    "        self.masks_ = self._compute_masks(X)\n",
    "    \n",
    "    def predict(self, X):\n",
    "        \"\"\"\n",
    "        Predict target values for the given input data.\n",
    "        \n",
    "        Parameters:\n",
    "        - X (array-like): Input feature matrix.\n",
    "        \n",
    "        Returns:\n",
    "        - list: Predicted values.\n",
    "        \"\"\"\n",
    "        self.test_mask_ = self._compute_masks(X)\n",
    "        if self.method == 'c':\n",
    "            predictions = [self._predict_single_classification(x, test_mask) for x, test_mask in zip(X, self.test_mask_)]\n",
    "        else:\n",
    "            predictions = [self._predict_single_regression(x, test_mask) for x, test_mask in zip(X, self.test_mask_)]\n",
    "        return predictions\n",
    "    \n",
    "    def _predict_single_regression(self, x, test_mask):\n",
    "        \"\"\"\n",
    "        Predict a single regression instance.\n",
    "        \"\"\"\n",
    "        distances = [self._distance(x, x_train, train_mask, test_mask) for x_train, train_mask in zip(self.X_, self.masks_)]\n",
    "        nearest_neigbor_indices = sorted(range(len(distances)), key=lambda sub: distances[sub])[:self.neighbors]\n",
    "        pred = self._mean([self.y_[index] for index in nearest_neigbor_indices])\n",
    "        return pred\n",
    "\n",
    "    def _predict_single_classification(self, x, test_mask):\n",
    "        \"\"\"\n",
    "        Predict a single classification instance.\n",
    "        \"\"\"\n",
    "        distances = [self._distance(x, x_train, train_mask, test_mask) for x_train, train_mask in zip(self.X_, self.masks_)]\n",
    "        nearest_neigbor_indices = sorted(range(len(distances)), key=lambda sub: distances[sub])[:self.neighbors]\n",
    "        pred = self._mode([self.y_[index] for index in nearest_neigbor_indices])\n",
    "        return pred\n",
    "    \n",
    "    def _distance(self, a, b, train_mask, test_mask):\n",
    "        \"\"\"\n",
    "        Compute Euclidean distance between two feature vectors, considering masks.\n",
    "        \"\"\"\n",
    "        mask = train_mask & test_mask\n",
    "        diff = (a[mask] - b[mask]) ** 2\n",
    "        return np.sqrt(np.sum(diff))\n",
    "    \n",
    "    def _mean(self, ls):\n",
    "        \"\"\"\n",
    "        Compute the mean of a list.\n",
    "        \"\"\"\n",
    "        return sum(ls) / len(ls)\n",
    "    \n",
    "    def _mode(self, ls):\n",
    "        \"\"\"\n",
    "        Compute the most common value in a list.\n",
    "        \"\"\"\n",
    "        return collections.Counter(ls).most_common()[0][0]\n",
    "    \n",
    "    def _compute_masks(self, values):\n",
    "        \"\"\"\n",
    "        Compute boolean masks to identify non-missing values.\n",
    "        \"\"\"\n",
    "        return ~pd.isna(values)"
   ]
  },
  {
   "cell_type": "code",
   "execution_count": 246,
   "metadata": {},
   "outputs": [],
   "source": [
    "c_knn_class = Custom_Knn(neighbors=1, method='c')\n",
    "c_knn_regg = Custom_Knn(neighbors=1, method='r')\n"
   ]
  },
  {
   "cell_type": "code",
   "execution_count": 247,
   "metadata": {},
   "outputs": [],
   "source": [
    "c_knn_regg.fit(X_reg, y_reg)\n",
    "c_knn_class.fit(X, y)\n"
   ]
  },
  {
   "cell_type": "code",
   "execution_count": 248,
   "metadata": {},
   "outputs": [],
   "source": [
    "pred_regg = c_knn_regg.predict(X=X_reg)\n",
    "\n",
    "pred_class = c_knn_class.predict(X=X)\n"
   ]
  },
  {
   "cell_type": "code",
   "execution_count": 249,
   "metadata": {},
   "outputs": [
    {
     "name": "stdout",
     "output_type": "stream",
     "text": [
      "1.0\n",
      "1.0\n"
     ]
    }
   ],
   "source": [
    "print(accuracy_score(y, pred_class))\n",
    "\n",
    "print(r2_score(y_reg, pred_regg))"
   ]
  },
  {
   "cell_type": "code",
   "execution_count": null,
   "metadata": {},
   "outputs": [],
   "source": []
  }
 ],
 "metadata": {
  "kernelspec": {
   "display_name": "Python 3",
   "language": "python",
   "name": "python3"
  },
  "language_info": {
   "codemirror_mode": {
    "name": "ipython",
    "version": 3
   },
   "file_extension": ".py",
   "mimetype": "text/x-python",
   "name": "python",
   "nbconvert_exporter": "python",
   "pygments_lexer": "ipython3",
   "version": "3.9.6"
  }
 },
 "nbformat": 4,
 "nbformat_minor": 2
}
