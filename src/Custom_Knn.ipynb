{
 "cells": [
  {
   "cell_type": "markdown",
   "metadata": {},
   "source": [
    "# A Custom K-NN implementation \n",
    "A k-nn algorithm that can:\n",
    "1. Handle missing values\n",
    "2. Handle class imbalance \n",
    "3. Handle different scales of data \n",
    "4. Automatically picks the best value for k \n",
    "5. Is close to the same speed as sklearn's \n",
    "6. Should run in parralel\n",
    "7. Regression or Classification \n",
    "\n",
    "## Planning \n",
    "1. Basic implementation \n",
    "2. First get it to run faster with the optimisations\n",
    "3. Just use simulated data"
   ]
  },
  {
   "cell_type": "code",
   "execution_count": 669,
   "metadata": {},
   "outputs": [],
   "source": [
    "import pandas as pd\n",
    "import numpy as np\n",
    "from sklearn.datasets import make_classification, make_regression\n",
    "from sklearn.base import BaseEstimator, ClassifierMixin\n",
    "from sklearn.metrics import accuracy_score, r2_score, recall_score\n",
    "import collections\n",
    "from scipy.spatial.distance import pdist, cdist"
   ]
  },
  {
   "cell_type": "code",
   "execution_count": 805,
   "metadata": {},
   "outputs": [],
   "source": [
    "class Custom_Knn(BaseEstimator, ClassifierMixin):\n",
    "    \"\"\"\n",
    "    A custom k-nearest neighbors (KNN) classifier and regressor that handles missing values.\n",
    "    \n",
    "    Parameters:\n",
    "    - neighbors (int): Number of nearest neighbors to consider.\n",
    "    - optimise (bool): Whether to optimize hyperparameters.\n",
    "    - method (str): 'c' for classification, 'r' for regression.\n",
    "    \"\"\"\n",
    "    def __init__(self, neighbors=None, optimise=False, method='c', imbalance=False):\n",
    "        self.optimise = optimise\n",
    "        self.neighbors = neighbors\n",
    "        self.method = method\n",
    "        self.imbalance = imbalance\n",
    "        self.label_type_ = None\n",
    "        self.best_neighbors = None \n",
    "        self.neighbor_scores = None\n",
    "    \n",
    "    def fit(self, X, y):\n",
    "        \"\"\"\n",
    "        Fit the model with training data.\n",
    "        \n",
    "        Parameters:\n",
    "        - X (array-like): Training feature matrix.\n",
    "        - y (array-like): Target values.\n",
    "        \"\"\"\n",
    "        self.X_ = np.array(X)\n",
    "        type_of_values = self.get_first_non_none_type(y)\n",
    "        if self.method == 'r': \n",
    "            if len(y) == 0:\n",
    "                z = 1\n",
    "            if issubclass(type_of_values, np.floating):\n",
    "                self.label_type_ = float\n",
    "            elif issubclass(type_of_values, np.str_):\n",
    "                self.label_type_ = str\n",
    "                #check if fails\n",
    "            elif issubclass(type_of_values, np.bool_):\n",
    "                self.method = 'c'\n",
    "            else:\n",
    "                self.label_type_ = float\n",
    "            \n",
    "            self.y_ = np.array(y, dtype=float)\n",
    "        else: \n",
    "            if issubclass(type_of_values, np.integer):\n",
    "                print(\"int\")\n",
    "                self.label_type_ = int\n",
    "            elif issubclass(type_of_values, np.bool_):\n",
    "                self.label_type_ = bool\n",
    "            else:\n",
    "                self.label_type_ = str\n",
    "            self.y_ = self._format_labels(y)\n",
    "\n",
    "            \n",
    "        self.masks_ = self._compute_masks(X)\n",
    "    \n",
    "    def predict(self, X):\n",
    "        \"\"\"\n",
    "        Predict target values for the given input data.\n",
    "        \n",
    "        Parameters:\n",
    "        - X (array-like): Input feature matrix.\n",
    "        \n",
    "        Returns:\n",
    "        - list: Predicted values.\n",
    "        \"\"\"\n",
    "\n",
    "        X = np.array(X)\n",
    "        self.test_mask_ = self._compute_masks(X)\n",
    "        if self.method == 'c':\n",
    "            predictions = [self._predict_single_classification(x, test_mask) for x, test_mask in zip(X, self.test_mask_)]\n",
    "        else:\n",
    "            predictions = [self._predict_single_regression(x, test_mask) for x, test_mask in zip(X, self.test_mask_)]\n",
    "        return [self.label_type_(pred) for pred in predictions]\n",
    "    \n",
    "    def predict_best_neighbor(self, X_test, y_test, metric=None, n_range = None):\n",
    "        if n_range is None:\n",
    "            n_range = (1, self.X_.shape[0])\n",
    "        \n",
    "        point_distances = cdist(X_test, self.X_, metric='euclidean')\n",
    "        \n",
    "        # Now I have the distance, do prediction with n = n,\n",
    "        best_n = 0\n",
    "        best_score = 0\n",
    "        n_neighbor_scores = {}\n",
    "        if self.method == 'c':\n",
    "            metric = 'accuracy'\n",
    "            # calculate distance from each test_point to each train_point\n",
    "            for n in n_range:\n",
    "                predictions = self._predict_with_variable_n(X_test=X_test, neighbors=n, method='c', distances=point_distances)\n",
    "                acc = self._get_accuracy(predicted=predictions, actual=y_test)\n",
    "                if acc > best_score:\n",
    "                    best_score = acc\n",
    "                    best_n = n\n",
    "                n_neighbor_scores[n] = acc\n",
    "                print(acc)\n",
    "            # do prediction with n = 1 and store all the way to n = n and return best score\n",
    "\n",
    "        else:\n",
    "            metric = 'mean_squared_error'\n",
    "        return best_n, best_score, n_neighbor_scores\n",
    "    \n",
    "    def _predict_single_regression(self, x, test_mask):\n",
    "        \"\"\"\n",
    "        Predict a single regression instance.\n",
    "        \"\"\"\n",
    "        distances = [self._distance(x, x_train, train_mask, test_mask) for x_train, train_mask in zip(self.X_, self.masks_)]\n",
    "        nearest_neigbor_indices = sorted(range(len(distances)), key=lambda sub: distances[sub])[:self.neighbors]\n",
    "        pred = self._mean([self.y_[index] for index in nearest_neigbor_indices])\n",
    "        return pred\n",
    "\n",
    "    def _predict_single_classification(self, x, test_mask):\n",
    "        \"\"\"\n",
    "        Predict a single classification instance.\n",
    "        \"\"\"\n",
    "        distances = [self._distance(x, x_train, train_mask, test_mask) for x_train, train_mask in zip(self.X_, self.masks_)]\n",
    "        nearest_neigbor_indices = sorted(range(len(distances)), key=lambda sub: distances[sub])[:self.neighbors]\n",
    "        if self.imbalance: \n",
    "            pred = self._sheppards_method(distances=[distances[index] for index in nearest_neigbor_indices], labels=[self.y_[index] for index in nearest_neigbor_indices])\n",
    "        else: pred = self._mode([self.y_[index] for index in nearest_neigbor_indices])\n",
    "        return pred\n",
    "    \n",
    "    def _predict_with_variable_n(self, X_test, neighbors, method, distances):\n",
    "        X_test = np.array(X_test)\n",
    "        self.test_mask_ = self._compute_masks(X_test)\n",
    "        # i, j = 1, 3  # Corresponds to second and fourth points\n",
    "        # index = n * i - (i * (i + 1)) // 2 + (j - i - 1)\n",
    "        predictions = [] \n",
    "        for i in range(X_test.shape[0]) :\n",
    "            #single_obervation_distances = self._get_distances_from_point(distances, i, n_points= X_test.shape[0])\n",
    "            single_obervation_distances = distances[i]\n",
    "            nearest_neigbor_indices = sorted(range(len(single_obervation_distances)), key=lambda sub: single_obervation_distances[sub])[:neighbors]\n",
    "            if self.imbalance: \n",
    "                pred = self._sheppards_method(distances=[distances[index] for index in nearest_neigbor_indices], labels=[self.y_[index] for index in nearest_neigbor_indices])\n",
    "            else: pred = self._mode([self.y_[index] for index in nearest_neigbor_indices])\n",
    "            predictions.append(pred)\n",
    "        print(predictions)\n",
    "        print(type(predictions))\n",
    "        print(type(predictions[0]))\n",
    "        return predictions\n",
    "\n",
    "        # keep complexigty n^2/2\n",
    "        # get prediction with n neighbors \n",
    "        # You have to get all distances for a specific point from the compact representation. \n",
    "        # Do not turn it into a squared matrix\n",
    "\n",
    "\n",
    "        return True\n",
    "        \n",
    "    def _distance(self, a, b, train_mask, test_mask):\n",
    "        \"\"\"\n",
    "        Compute Euclidean distance between two feature vectors, considering masks.\n",
    "        \"\"\"\n",
    "        mask = train_mask & test_mask\n",
    "        if not np.any(mask): #If there are no values for which both observations have valid values return a big value\n",
    "            return np.inf\n",
    "        diff = (a[mask] - b[mask]) ** 2\n",
    "        return np.sqrt(np.sum(diff))\n",
    "    \n",
    "    def _mean(self, ls):\n",
    "        \"\"\"\n",
    "        Compute the mean of a list.\n",
    "        \"\"\"\n",
    "        return sum(ls) / len(ls)\n",
    "    \n",
    "    def _mode(self, ls):\n",
    "        \"\"\"\n",
    "        Compute the most common value in a list.\n",
    "        \"\"\"\n",
    "        return collections.Counter(ls).most_common()[0][0]\n",
    "    \n",
    "    def _sheppards_method(self, distances, labels):\n",
    "        \"\"\"\n",
    "        Apply Sheppard's method to perform weighted voting based on inverse distances.\n",
    "        \n",
    "        Parameters:\n",
    "        - distances (list of float): Distances of neighbors to the query point.\n",
    "        - labels (list): Corresponding class labels of the neighbors.\n",
    "        \n",
    "        Returns:\n",
    "        - predicted_class: The class with the highest weighted vote.\n",
    "        \"\"\"\n",
    "        weights = 1 / (np.array(distances) + 1e-5)\n",
    "        weighted_votes = {}\n",
    "        for label, weight in zip(labels, weights):\n",
    "            label = str(label)\n",
    "            if label in weighted_votes:\n",
    "                weighted_votes[label] += weight\n",
    "            else:\n",
    "                weighted_votes[label] = weight\n",
    "        \n",
    "        predicted_class = max(weighted_votes, key=weighted_votes.get)\n",
    "        return predicted_class\n",
    "    \n",
    "    def _compute_masks(self, values):\n",
    "        \"\"\"\n",
    "        Compute boolean masks to identify non-missing values.\n",
    "        \"\"\"\n",
    "        return ~pd.isna(values)\n",
    "    \n",
    "    def _format_labels(self, y):\n",
    "        if isinstance(y, pd.Series):  # Convert Pandas Series to list\n",
    "            y = y.to_numpy()\n",
    "        elif isinstance(y, np.ndarray):  # Convert NumPy array to list\n",
    "            y = y.tolist()\n",
    "        elif not isinstance(y, list):\n",
    "            raise ValueError(\"Input y should be a list, NumPy array, or Pandas Series.\")\n",
    "\n",
    "        return list(map(str, y))  # Convert all labels to string\n",
    "    \n",
    "    def get_first_non_none_type(self, lst):\n",
    "        for item in lst:\n",
    "            if item is not None:  # Skip None values\n",
    "                return type(item)\n",
    "        return False  # If only None values are present\n",
    "    \n",
    "    def _get_accuracy(self, predicted, actual):\n",
    "        correct = sum(1 for true, pred in zip(actual, predicted) if true == pred)\n",
    "        total = len(actual)\n",
    "        return correct / total\n",
    "    \n",
    "    def _get_distances_from_point(self, condensed_distances, point_index, n_points):\n",
    "        \"\"\"\n",
    "        Extract distances from a specific point in a condensed pdist distance matrix.\n",
    "\n",
    "        Parameters:\n",
    "        - condensed_distances (1D array): The condensed pdist distance matrix.\n",
    "        - point_index (int): The index of the point whose distances we want to extract.\n",
    "        - n_points (int): Total number of points in the dataset.\n",
    "\n",
    "        Returns:\n",
    "        - np.ndarray: 1D array of distances from the given point to all others.\n",
    "        \"\"\"\n",
    "        distances = np.zeros(n_points)  # Initialize distance array\n",
    "\n",
    "        # Fill distances to other points using condensed matrix indexing formula\n",
    "        for j in range(n_points):\n",
    "            if point_index == j:\n",
    "                distances[j] = 0  # Distance to itself is always zero\n",
    "            elif point_index < j:\n",
    "                idx = n_points * point_index - (point_index * (point_index + 1)) // 2 + (j - point_index - 1)\n",
    "                distances[j] = condensed_distances[idx]\n",
    "            else:\n",
    "                idx = n_points * j - (j * (j + 1)) // 2 + (point_index - j - 1)\n",
    "                distances[j] = condensed_distances[idx]\n",
    "\n",
    "        return distances\n",
    "\n"
   ]
  },
  {
   "cell_type": "code",
   "execution_count": 806,
   "metadata": {},
   "outputs": [
    {
     "name": "stdout",
     "output_type": "stream",
     "text": [
      "Original class distribution: [5 5]\n",
      "Imbalanced class distribution: [5 5]\n"
     ]
    }
   ],
   "source": [
    "# Generate classification dataset\n",
    "X, y = make_classification(n_samples=10, n_features=5, n_informative=4, \n",
    "                           n_redundant=0, n_classes=2, random_state=42)\n",
    "# Introduce missing values\n",
    "missing_fraction = 0  # 5% missing values\n",
    "num_missing = int(missing_fraction * X.size)\n",
    "\n",
    "# Randomly select indices to introduce NaNs\n",
    "np.random.seed(42)  # For reproducibility\n",
    "missing_indices = np.random.choice(X.size, num_missing, replace=False)\n",
    "\n",
    "# Flatten X, introduce NaNs, and reshape back\n",
    "X_flattened = X.flatten()\n",
    "X_flattened[missing_indices] = np.nan\n",
    "X = X_flattened.reshape(X.shape)\n",
    "\n",
    "# Introduce class imbalance by resampling\n",
    "def introduce_class_imbalance(X, y, majority_class_ratio=0.8):\n",
    "    # Get indices of both classes\n",
    "    class_0_indices = np.where(y == 0)[0]\n",
    "    class_1_indices = np.where(y == 1)[0]\n",
    "\n",
    "    # Introduce imbalance by keeping only a fraction of one class\n",
    "    np.random.seed(42)\n",
    "    if len(class_0_indices) > len(class_1_indices):\n",
    "        class_0_indices = np.random.choice(class_0_indices, int(len(class_0_indices) * majority_class_ratio), replace=True)\n",
    "    else:\n",
    "        class_1_indices = np.random.choice(class_1_indices, int(len(class_1_indices) * majority_class_ratio), replace=True)\n",
    "\n",
    "    # Combine the new indices\n",
    "    selected_indices = np.concatenate([class_0_indices, class_1_indices])\n",
    "\n",
    "    # Subset the data\n",
    "    X_imbalanced = X[selected_indices]\n",
    "    y_imbalanced = y[selected_indices]\n",
    "\n",
    "    return X_imbalanced, y_imbalanced\n",
    "\n",
    "# Introduce class imbalance (e.g., 80% of majority class remains)\n",
    "X_imbalanced, y_imbalanced = introduce_class_imbalance(X, y, majority_class_ratio=1)\n",
    "\n",
    "y = list(map(str, y))\n",
    "y_imbalanced = list(map(str, y_imbalanced))\n",
    "# Print class distribution before and after imbalance\n",
    "print(\"Original class distribution:\", np.bincount(y))\n",
    "print(\"Imbalanced class distribution:\", np.bincount(y_imbalanced))\n"
   ]
  },
  {
   "cell_type": "code",
   "execution_count": 807,
   "metadata": {},
   "outputs": [],
   "source": [
    "X_reg, y_reg = make_regression(n_samples=100, n_features=5, n_informative=5)\n",
    "missing_fraction = 0.05  # 10% missing values\n",
    "\n",
    "# Calculate number of missing values\n",
    "num_missing = int(missing_fraction * X_reg.size)\n",
    "\n",
    "# Randomly select indices to introduce NaNs\n",
    "np.random.seed(42)  # For reproducibility\n",
    "missing_indices = np.random.choice(X_reg.size, num_missing, replace=False)\n",
    "\n",
    "# Flatten X, introduce NaNs, and reshape back\n",
    "X_flattened = X_reg.flatten()\n",
    "X_flattened[missing_indices] = np.nan\n",
    "X_reg = X_flattened.reshape(X_reg.shape)\n",
    "y_reg = list(map(str, y_reg))"
   ]
  },
  {
   "cell_type": "markdown",
   "metadata": {},
   "source": []
  },
  {
   "cell_type": "markdown",
   "metadata": {},
   "source": [
    "# Model \n",
    "1. sklearn model format "
   ]
  },
  {
   "cell_type": "code",
   "execution_count": 808,
   "metadata": {},
   "outputs": [],
   "source": [
    "c_knn_class = Custom_Knn(neighbors=5, method='c')\n",
    "c_knn_class_imbalance_not_set = Custom_Knn(neighbors=5, method='c')\n",
    "c_knn_class_imbalance = Custom_Knn(neighbors=5, method='c', imbalance=True)\n",
    "c_knn_regg = Custom_Knn(neighbors=1, method='r')\n"
   ]
  },
  {
   "cell_type": "code",
   "execution_count": 809,
   "metadata": {},
   "outputs": [],
   "source": [
    "c_knn_regg.fit(X_reg, y_reg)\n",
    "c_knn_class.fit(X, y)\n",
    "c_knn_class_imbalance.fit(X_imbalanced, y_imbalanced)\n",
    "c_knn_class_imbalance_not_set.fit(X_imbalanced, y_imbalanced)\n"
   ]
  },
  {
   "cell_type": "code",
   "execution_count": null,
   "metadata": {},
   "outputs": [],
   "source": []
  },
  {
   "cell_type": "code",
   "execution_count": 810,
   "metadata": {},
   "outputs": [],
   "source": [
    "pred_regg = c_knn_regg.predict(X=X_reg)\n",
    "\n",
    "pred_class = c_knn_class.predict(X=X)\n",
    "\n",
    "pred_class_imbalance = c_knn_class_imbalance.predict(X=X_imbalanced)\n",
    "\n",
    "pred_class_imbalance_not_set = c_knn_class_imbalance_not_set.predict(X=X_imbalanced)\n"
   ]
  },
  {
   "cell_type": "code",
   "execution_count": 811,
   "metadata": {},
   "outputs": [
    {
     "data": {
      "text/plain": [
       "str"
      ]
     },
     "execution_count": 811,
     "metadata": {},
     "output_type": "execute_result"
    }
   ],
   "source": [
    "c_knn_class.label_type_"
   ]
  },
  {
   "cell_type": "code",
   "execution_count": 812,
   "metadata": {},
   "outputs": [
    {
     "name": "stdout",
     "output_type": "stream",
     "text": [
      "0.6\n",
      "1.0\n"
     ]
    }
   ],
   "source": [
    "print(accuracy_score(y, pred_class))\n",
    "\n",
    "print(r2_score(y_reg, pred_regg))"
   ]
  },
  {
   "cell_type": "code",
   "execution_count": 813,
   "metadata": {},
   "outputs": [
    {
     "data": {
      "text/plain": [
       "'7.853102481383311'"
      ]
     },
     "execution_count": 813,
     "metadata": {},
     "output_type": "execute_result"
    }
   ],
   "source": [
    "y_reg[0]"
   ]
  },
  {
   "cell_type": "code",
   "execution_count": 814,
   "metadata": {},
   "outputs": [
    {
     "data": {
      "text/plain": [
       "str"
      ]
     },
     "execution_count": 814,
     "metadata": {},
     "output_type": "execute_result"
    }
   ],
   "source": [
    "type(pred_class[0])"
   ]
  },
  {
   "cell_type": "code",
   "execution_count": 815,
   "metadata": {},
   "outputs": [
    {
     "name": "stdout",
     "output_type": "stream",
     "text": [
      "0.6\n",
      "1.0\n"
     ]
    }
   ],
   "source": [
    "print(accuracy_score(y, pred_class))\n",
    "print(recall_score(y, pred_class, pos_label='0'))\n"
   ]
  },
  {
   "cell_type": "code",
   "execution_count": 816,
   "metadata": {},
   "outputs": [
    {
     "name": "stdout",
     "output_type": "stream",
     "text": [
      "1.0\n",
      "1.0\n",
      "0.5\n",
      "0.4\n"
     ]
    }
   ],
   "source": [
    "print(accuracy_score(y_imbalanced, pred_class_imbalance))\n",
    "print(recall_score(y_imbalanced, pred_class_imbalance, pos_label='0'))\n",
    "\n",
    "print(accuracy_score(y_imbalanced, pred_class_imbalance_not_set))\n",
    "print(recall_score(y_imbalanced, pred_class_imbalance_not_set, pos_label='0'))"
   ]
  },
  {
   "cell_type": "code",
   "execution_count": 817,
   "metadata": {},
   "outputs": [
    {
     "name": "stdout",
     "output_type": "stream",
     "text": [
      "['1', '1', '1', '0', '0', '1', '0', '0', '1', '0']\n",
      "<class 'list'>\n",
      "<class 'str'>\n",
      "1.0\n",
      "['1', '1', '1', '0', '0', '1', '0', '0', '1', '0']\n",
      "<class 'list'>\n",
      "<class 'str'>\n",
      "1.0\n",
      "['1', '1', '1', '0', '0', '1', '0', '0', '1', '0']\n",
      "<class 'list'>\n",
      "<class 'str'>\n",
      "1.0\n",
      "['1', '1', '0', '0', '0', '1', '0', '0', '1', '0']\n",
      "<class 'list'>\n",
      "<class 'str'>\n",
      "0.9\n",
      "['1', '1', '0', '0', '0', '1', '0', '0', '1', '0']\n",
      "<class 'list'>\n",
      "<class 'str'>\n",
      "0.9\n",
      "['1', '0', '0', '0', '0', '0', '0', '0', '0', '0']\n",
      "<class 'list'>\n",
      "<class 'str'>\n",
      "0.6\n",
      "['1', '0', '0', '0', '0', '0', '0', '0', '0', '0']\n",
      "<class 'list'>\n",
      "<class 'str'>\n",
      "0.6\n",
      "['1', '0', '0', '0', '0', '0', '0', '0', '0', '0']\n",
      "<class 'list'>\n",
      "<class 'str'>\n",
      "0.6\n",
      "['1', '0', '0', '0', '0', '0', '0', '0', '0', '0']\n",
      "<class 'list'>\n",
      "<class 'str'>\n",
      "0.6\n",
      "['1', '0', '0', '0', '0', '0', '0', '0', '0', '0']\n",
      "<class 'list'>\n",
      "<class 'str'>\n",
      "0.6\n",
      "['1', '0', '0', '0', '0', '0', '0', '0', '0', '0']\n",
      "<class 'list'>\n",
      "<class 'str'>\n",
      "0.6\n"
     ]
    }
   ],
   "source": [
    "a, b, c = c_knn_class.predict_best_neighbor(X_test=X, y_test=y, metric='acc', n_range=(1, 15, 2, 3, 4, 5,6,7, 7, 7, 7))"
   ]
  },
  {
   "cell_type": "code",
   "execution_count": 818,
   "metadata": {},
   "outputs": [
    {
     "data": {
      "text/plain": [
       "['1', '1', '1', '0', '0', '1', '0', '0', '1', '0']"
      ]
     },
     "execution_count": 818,
     "metadata": {},
     "output_type": "execute_result"
    }
   ],
   "source": [
    "y\n"
   ]
  },
  {
   "cell_type": "code",
   "execution_count": 819,
   "metadata": {},
   "outputs": [
    {
     "data": {
      "text/plain": [
       "1"
      ]
     },
     "execution_count": 819,
     "metadata": {},
     "output_type": "execute_result"
    }
   ],
   "source": [
    "a"
   ]
  },
  {
   "cell_type": "code",
   "execution_count": 820,
   "metadata": {},
   "outputs": [
    {
     "data": {
      "text/plain": [
       "1.0"
      ]
     },
     "execution_count": 820,
     "metadata": {},
     "output_type": "execute_result"
    }
   ],
   "source": [
    "b"
   ]
  },
  {
   "cell_type": "code",
   "execution_count": 821,
   "metadata": {},
   "outputs": [
    {
     "data": {
      "text/plain": [
       "{1: 1.0, 15: 1.0, 2: 1.0, 3: 0.9, 4: 0.9, 5: 0.6, 6: 0.6, 7: 0.6}"
      ]
     },
     "execution_count": 821,
     "metadata": {},
     "output_type": "execute_result"
    }
   ],
   "source": [
    "c"
   ]
  },
  {
   "cell_type": "code",
   "execution_count": null,
   "metadata": {},
   "outputs": [],
   "source": []
  },
  {
   "cell_type": "code",
   "execution_count": null,
   "metadata": {},
   "outputs": [],
   "source": []
  }
 ],
 "metadata": {
  "kernelspec": {
   "display_name": "Python 3",
   "language": "python",
   "name": "python3"
  },
  "language_info": {
   "codemirror_mode": {
    "name": "ipython",
    "version": 3
   },
   "file_extension": ".py",
   "mimetype": "text/x-python",
   "name": "python",
   "nbconvert_exporter": "python",
   "pygments_lexer": "ipython3",
   "version": "3.9.6"
  }
 },
 "nbformat": 4,
 "nbformat_minor": 2
}
